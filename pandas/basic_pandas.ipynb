{
 "cells": [
  {
   "cell_type": "code",
   "execution_count": 228,
   "id": "bf1b13e2",
   "metadata": {},
   "outputs": [],
   "source": [
    "import pandas as pd"
   ]
  },
  {
   "cell_type": "code",
   "execution_count": 240,
   "id": "cf8925f0",
   "metadata": {},
   "outputs": [],
   "source": [
    "import numpy as np"
   ]
  },
  {
   "cell_type": "code",
   "execution_count": 270,
   "id": "6a42a5a8",
   "metadata": {},
   "outputs": [],
   "source": [
    "from numpy.random import randn\n",
    "np.random.seed(100)"
   ]
  },
  {
   "cell_type": "code",
   "execution_count": 271,
   "id": "e0cffa0e",
   "metadata": {},
   "outputs": [],
   "source": [
    "#random.randn()"
   ]
  },
  {
   "cell_type": "code",
   "execution_count": 272,
   "id": "fa0b1792",
   "metadata": {},
   "outputs": [
    {
     "data": {
      "text/html": [
       "<div>\n",
       "<style scoped>\n",
       "    .dataframe tbody tr th:only-of-type {\n",
       "        vertical-align: middle;\n",
       "    }\n",
       "\n",
       "    .dataframe tbody tr th {\n",
       "        vertical-align: top;\n",
       "    }\n",
       "\n",
       "    .dataframe thead th {\n",
       "        text-align: right;\n",
       "    }\n",
       "</style>\n",
       "<table border=\"1\" class=\"dataframe\">\n",
       "  <thead>\n",
       "    <tr style=\"text-align: right;\">\n",
       "      <th></th>\n",
       "    </tr>\n",
       "  </thead>\n",
       "  <tbody>\n",
       "  </tbody>\n",
       "</table>\n",
       "</div>"
      ],
      "text/plain": [
       "Empty DataFrame\n",
       "Columns: []\n",
       "Index: []"
      ]
     },
     "execution_count": 272,
     "metadata": {},
     "output_type": "execute_result"
    }
   ],
   "source": [
    "pd.DataFrame()"
   ]
  },
  {
   "cell_type": "code",
   "execution_count": 273,
   "id": "98d68bf7",
   "metadata": {},
   "outputs": [],
   "source": [
    "#df=pd.DataFrame(randint(1,100,size=(5,5)))"
   ]
  },
  {
   "cell_type": "code",
   "execution_count": 275,
   "id": "2d79cf2e",
   "metadata": {},
   "outputs": [],
   "source": [
    "df=pd.DataFrame()"
   ]
  },
  {
   "cell_type": "code",
   "execution_count": 276,
   "id": "1e0337c2",
   "metadata": {},
   "outputs": [
    {
     "data": {
      "text/html": [
       "<div>\n",
       "<style scoped>\n",
       "    .dataframe tbody tr th:only-of-type {\n",
       "        vertical-align: middle;\n",
       "    }\n",
       "\n",
       "    .dataframe tbody tr th {\n",
       "        vertical-align: top;\n",
       "    }\n",
       "\n",
       "    .dataframe thead th {\n",
       "        text-align: right;\n",
       "    }\n",
       "</style>\n",
       "<table border=\"1\" class=\"dataframe\">\n",
       "  <thead>\n",
       "    <tr style=\"text-align: right;\">\n",
       "      <th></th>\n",
       "      <th>0</th>\n",
       "      <th>1</th>\n",
       "      <th>2</th>\n",
       "      <th>3</th>\n",
       "    </tr>\n",
       "  </thead>\n",
       "  <tbody>\n",
       "    <tr>\n",
       "      <th>0</th>\n",
       "      <td>-1.704651</td>\n",
       "      <td>-1.136261</td>\n",
       "      <td>-2.973315</td>\n",
       "      <td>0.033317</td>\n",
       "    </tr>\n",
       "    <tr>\n",
       "      <th>1</th>\n",
       "      <td>-0.248889</td>\n",
       "      <td>-0.450176</td>\n",
       "      <td>0.132428</td>\n",
       "      <td>0.022214</td>\n",
       "    </tr>\n",
       "    <tr>\n",
       "      <th>2</th>\n",
       "      <td>0.317368</td>\n",
       "      <td>-0.752414</td>\n",
       "      <td>-1.296392</td>\n",
       "      <td>0.095139</td>\n",
       "    </tr>\n",
       "    <tr>\n",
       "      <th>3</th>\n",
       "      <td>-0.423715</td>\n",
       "      <td>-1.185984</td>\n",
       "      <td>-0.365462</td>\n",
       "      <td>-1.271023</td>\n",
       "    </tr>\n",
       "  </tbody>\n",
       "</table>\n",
       "</div>"
      ],
      "text/plain": [
       "          0         1         2         3\n",
       "0 -1.704651 -1.136261 -2.973315  0.033317\n",
       "1 -0.248889 -0.450176  0.132428  0.022214\n",
       "2  0.317368 -0.752414 -1.296392  0.095139\n",
       "3 -0.423715 -1.185984 -0.365462 -1.271023"
      ]
     },
     "execution_count": 276,
     "metadata": {},
     "output_type": "execute_result"
    }
   ],
   "source": [
    "df"
   ]
  },
  {
   "cell_type": "code",
   "execution_count": 159,
   "id": "d7f1b68d",
   "metadata": {},
   "outputs": [],
   "source": [
    "v=pd.DataFrame(randn(5,5),['A','B','C','D','E'],['U','V','W','X','Y'])"
   ]
  },
  {
   "cell_type": "code",
   "execution_count": 160,
   "id": "c5fd712f",
   "metadata": {},
   "outputs": [
    {
     "data": {
      "text/html": [
       "<div>\n",
       "<style scoped>\n",
       "    .dataframe tbody tr th:only-of-type {\n",
       "        vertical-align: middle;\n",
       "    }\n",
       "\n",
       "    .dataframe tbody tr th {\n",
       "        vertical-align: top;\n",
       "    }\n",
       "\n",
       "    .dataframe thead th {\n",
       "        text-align: right;\n",
       "    }\n",
       "</style>\n",
       "<table border=\"1\" class=\"dataframe\">\n",
       "  <thead>\n",
       "    <tr style=\"text-align: right;\">\n",
       "      <th></th>\n",
       "      <th>U</th>\n",
       "      <th>V</th>\n",
       "      <th>W</th>\n",
       "      <th>X</th>\n",
       "      <th>Y</th>\n",
       "    </tr>\n",
       "  </thead>\n",
       "  <tbody>\n",
       "    <tr>\n",
       "      <th>A</th>\n",
       "      <td>0.937082</td>\n",
       "      <td>0.731000</td>\n",
       "      <td>1.361556</td>\n",
       "      <td>-0.326238</td>\n",
       "      <td>0.055676</td>\n",
       "    </tr>\n",
       "    <tr>\n",
       "      <th>B</th>\n",
       "      <td>0.222400</td>\n",
       "      <td>-1.443217</td>\n",
       "      <td>-0.756352</td>\n",
       "      <td>0.816454</td>\n",
       "      <td>0.750445</td>\n",
       "    </tr>\n",
       "    <tr>\n",
       "      <th>C</th>\n",
       "      <td>-0.455947</td>\n",
       "      <td>1.189622</td>\n",
       "      <td>-1.690617</td>\n",
       "      <td>-1.356399</td>\n",
       "      <td>-1.232435</td>\n",
       "    </tr>\n",
       "    <tr>\n",
       "      <th>D</th>\n",
       "      <td>-0.544439</td>\n",
       "      <td>-0.668172</td>\n",
       "      <td>0.007315</td>\n",
       "      <td>-0.612939</td>\n",
       "      <td>1.299748</td>\n",
       "    </tr>\n",
       "    <tr>\n",
       "      <th>E</th>\n",
       "      <td>-1.733096</td>\n",
       "      <td>-0.983310</td>\n",
       "      <td>0.357508</td>\n",
       "      <td>-1.613579</td>\n",
       "      <td>1.470714</td>\n",
       "    </tr>\n",
       "  </tbody>\n",
       "</table>\n",
       "</div>"
      ],
      "text/plain": [
       "          U         V         W         X         Y\n",
       "A  0.937082  0.731000  1.361556 -0.326238  0.055676\n",
       "B  0.222400 -1.443217 -0.756352  0.816454  0.750445\n",
       "C -0.455947  1.189622 -1.690617 -1.356399 -1.232435\n",
       "D -0.544439 -0.668172  0.007315 -0.612939  1.299748\n",
       "E -1.733096 -0.983310  0.357508 -1.613579  1.470714"
      ]
     },
     "execution_count": 160,
     "metadata": {},
     "output_type": "execute_result"
    }
   ],
   "source": [
    "v"
   ]
  },
  {
   "cell_type": "code",
   "execution_count": 161,
   "id": "8f9b5b20",
   "metadata": {},
   "outputs": [
    {
     "data": {
      "text/html": [
       "<div>\n",
       "<style scoped>\n",
       "    .dataframe tbody tr th:only-of-type {\n",
       "        vertical-align: middle;\n",
       "    }\n",
       "\n",
       "    .dataframe tbody tr th {\n",
       "        vertical-align: top;\n",
       "    }\n",
       "\n",
       "    .dataframe thead th {\n",
       "        text-align: right;\n",
       "    }\n",
       "</style>\n",
       "<table border=\"1\" class=\"dataframe\">\n",
       "  <thead>\n",
       "    <tr style=\"text-align: right;\">\n",
       "      <th></th>\n",
       "      <th>U</th>\n",
       "      <th>V</th>\n",
       "      <th>W</th>\n",
       "      <th>X</th>\n",
       "      <th>Y</th>\n",
       "    </tr>\n",
       "  </thead>\n",
       "  <tbody>\n",
       "    <tr>\n",
       "      <th>A</th>\n",
       "      <td>True</td>\n",
       "      <td>True</td>\n",
       "      <td>True</td>\n",
       "      <td>False</td>\n",
       "      <td>True</td>\n",
       "    </tr>\n",
       "    <tr>\n",
       "      <th>B</th>\n",
       "      <td>True</td>\n",
       "      <td>False</td>\n",
       "      <td>False</td>\n",
       "      <td>True</td>\n",
       "      <td>True</td>\n",
       "    </tr>\n",
       "    <tr>\n",
       "      <th>C</th>\n",
       "      <td>False</td>\n",
       "      <td>True</td>\n",
       "      <td>False</td>\n",
       "      <td>False</td>\n",
       "      <td>False</td>\n",
       "    </tr>\n",
       "    <tr>\n",
       "      <th>D</th>\n",
       "      <td>False</td>\n",
       "      <td>False</td>\n",
       "      <td>True</td>\n",
       "      <td>False</td>\n",
       "      <td>True</td>\n",
       "    </tr>\n",
       "    <tr>\n",
       "      <th>E</th>\n",
       "      <td>False</td>\n",
       "      <td>False</td>\n",
       "      <td>True</td>\n",
       "      <td>False</td>\n",
       "      <td>True</td>\n",
       "    </tr>\n",
       "  </tbody>\n",
       "</table>\n",
       "</div>"
      ],
      "text/plain": [
       "       U      V      W      X      Y\n",
       "A   True   True   True  False   True\n",
       "B   True  False  False   True   True\n",
       "C  False   True  False  False  False\n",
       "D  False  False   True  False   True\n",
       "E  False  False   True  False   True"
      ]
     },
     "execution_count": 161,
     "metadata": {},
     "output_type": "execute_result"
    }
   ],
   "source": [
    "v>0"
   ]
  },
  {
   "cell_type": "code",
   "execution_count": 162,
   "id": "c0c4518e",
   "metadata": {},
   "outputs": [
    {
     "data": {
      "text/plain": [
       "A     True\n",
       "B     True\n",
       "C    False\n",
       "D     True\n",
       "E     True\n",
       "Name: Y, dtype: bool"
      ]
     },
     "execution_count": 162,
     "metadata": {},
     "output_type": "execute_result"
    }
   ],
   "source": [
    "v[\"Y\"]>0"
   ]
  },
  {
   "cell_type": "code",
   "execution_count": 163,
   "id": "06c34412",
   "metadata": {},
   "outputs": [
    {
     "data": {
      "text/html": [
       "<div>\n",
       "<style scoped>\n",
       "    .dataframe tbody tr th:only-of-type {\n",
       "        vertical-align: middle;\n",
       "    }\n",
       "\n",
       "    .dataframe tbody tr th {\n",
       "        vertical-align: top;\n",
       "    }\n",
       "\n",
       "    .dataframe thead th {\n",
       "        text-align: right;\n",
       "    }\n",
       "</style>\n",
       "<table border=\"1\" class=\"dataframe\">\n",
       "  <thead>\n",
       "    <tr style=\"text-align: right;\">\n",
       "      <th></th>\n",
       "      <th>U</th>\n",
       "      <th>V</th>\n",
       "      <th>W</th>\n",
       "      <th>X</th>\n",
       "      <th>Y</th>\n",
       "    </tr>\n",
       "  </thead>\n",
       "  <tbody>\n",
       "    <tr>\n",
       "      <th>A</th>\n",
       "      <td>0.937082</td>\n",
       "      <td>0.731000</td>\n",
       "      <td>1.361556</td>\n",
       "      <td>-0.326238</td>\n",
       "      <td>0.055676</td>\n",
       "    </tr>\n",
       "    <tr>\n",
       "      <th>B</th>\n",
       "      <td>0.222400</td>\n",
       "      <td>-1.443217</td>\n",
       "      <td>-0.756352</td>\n",
       "      <td>0.816454</td>\n",
       "      <td>0.750445</td>\n",
       "    </tr>\n",
       "    <tr>\n",
       "      <th>D</th>\n",
       "      <td>-0.544439</td>\n",
       "      <td>-0.668172</td>\n",
       "      <td>0.007315</td>\n",
       "      <td>-0.612939</td>\n",
       "      <td>1.299748</td>\n",
       "    </tr>\n",
       "    <tr>\n",
       "      <th>E</th>\n",
       "      <td>-1.733096</td>\n",
       "      <td>-0.983310</td>\n",
       "      <td>0.357508</td>\n",
       "      <td>-1.613579</td>\n",
       "      <td>1.470714</td>\n",
       "    </tr>\n",
       "  </tbody>\n",
       "</table>\n",
       "</div>"
      ],
      "text/plain": [
       "          U         V         W         X         Y\n",
       "A  0.937082  0.731000  1.361556 -0.326238  0.055676\n",
       "B  0.222400 -1.443217 -0.756352  0.816454  0.750445\n",
       "D -0.544439 -0.668172  0.007315 -0.612939  1.299748\n",
       "E -1.733096 -0.983310  0.357508 -1.613579  1.470714"
      ]
     },
     "execution_count": 163,
     "metadata": {},
     "output_type": "execute_result"
    }
   ],
   "source": [
    "v[v[\"Y\"]>0]"
   ]
  },
  {
   "cell_type": "code",
   "execution_count": 164,
   "id": "004a464c",
   "metadata": {},
   "outputs": [
    {
     "data": {
      "text/html": [
       "<div>\n",
       "<style scoped>\n",
       "    .dataframe tbody tr th:only-of-type {\n",
       "        vertical-align: middle;\n",
       "    }\n",
       "\n",
       "    .dataframe tbody tr th {\n",
       "        vertical-align: top;\n",
       "    }\n",
       "\n",
       "    .dataframe thead th {\n",
       "        text-align: right;\n",
       "    }\n",
       "</style>\n",
       "<table border=\"1\" class=\"dataframe\">\n",
       "  <thead>\n",
       "    <tr style=\"text-align: right;\">\n",
       "      <th></th>\n",
       "      <th>U</th>\n",
       "      <th>V</th>\n",
       "      <th>W</th>\n",
       "      <th>X</th>\n",
       "      <th>Y</th>\n",
       "    </tr>\n",
       "  </thead>\n",
       "  <tbody>\n",
       "    <tr>\n",
       "      <th>A</th>\n",
       "      <td>0.937082</td>\n",
       "      <td>0.731000</td>\n",
       "      <td>1.361556</td>\n",
       "      <td>-0.326238</td>\n",
       "      <td>0.055676</td>\n",
       "    </tr>\n",
       "    <tr>\n",
       "      <th>B</th>\n",
       "      <td>0.222400</td>\n",
       "      <td>-1.443217</td>\n",
       "      <td>-0.756352</td>\n",
       "      <td>0.816454</td>\n",
       "      <td>0.750445</td>\n",
       "    </tr>\n",
       "    <tr>\n",
       "      <th>C</th>\n",
       "      <td>-0.455947</td>\n",
       "      <td>1.189622</td>\n",
       "      <td>-1.690617</td>\n",
       "      <td>-1.356399</td>\n",
       "      <td>-1.232435</td>\n",
       "    </tr>\n",
       "    <tr>\n",
       "      <th>D</th>\n",
       "      <td>-0.544439</td>\n",
       "      <td>-0.668172</td>\n",
       "      <td>0.007315</td>\n",
       "      <td>-0.612939</td>\n",
       "      <td>1.299748</td>\n",
       "    </tr>\n",
       "    <tr>\n",
       "      <th>E</th>\n",
       "      <td>-1.733096</td>\n",
       "      <td>-0.983310</td>\n",
       "      <td>0.357508</td>\n",
       "      <td>-1.613579</td>\n",
       "      <td>1.470714</td>\n",
       "    </tr>\n",
       "  </tbody>\n",
       "</table>\n",
       "</div>"
      ],
      "text/plain": [
       "          U         V         W         X         Y\n",
       "A  0.937082  0.731000  1.361556 -0.326238  0.055676\n",
       "B  0.222400 -1.443217 -0.756352  0.816454  0.750445\n",
       "C -0.455947  1.189622 -1.690617 -1.356399 -1.232435\n",
       "D -0.544439 -0.668172  0.007315 -0.612939  1.299748\n",
       "E -1.733096 -0.983310  0.357508 -1.613579  1.470714"
      ]
     },
     "execution_count": 164,
     "metadata": {},
     "output_type": "execute_result"
    }
   ],
   "source": [
    "v"
   ]
  },
  {
   "cell_type": "code",
   "execution_count": 165,
   "id": "ae52cd88",
   "metadata": {
    "scrolled": true
   },
   "outputs": [],
   "source": [
    "mohan=v[\"U\"]+v[\"V\"]"
   ]
  },
  {
   "cell_type": "code",
   "execution_count": 166,
   "id": "77074075",
   "metadata": {},
   "outputs": [
    {
     "data": {
      "text/plain": [
       "A    1.668083\n",
       "B   -1.220817\n",
       "C    0.733675\n",
       "D   -1.212611\n",
       "E   -2.716406\n",
       "dtype: float64"
      ]
     },
     "execution_count": 166,
     "metadata": {},
     "output_type": "execute_result"
    }
   ],
   "source": [
    "mohan"
   ]
  },
  {
   "cell_type": "code",
   "execution_count": 167,
   "id": "c3502247",
   "metadata": {},
   "outputs": [],
   "source": [
    "v[\"kas\"]=mohan"
   ]
  },
  {
   "cell_type": "code",
   "execution_count": 168,
   "id": "b82b9d9d",
   "metadata": {},
   "outputs": [
    {
     "data": {
      "text/html": [
       "<div>\n",
       "<style scoped>\n",
       "    .dataframe tbody tr th:only-of-type {\n",
       "        vertical-align: middle;\n",
       "    }\n",
       "\n",
       "    .dataframe tbody tr th {\n",
       "        vertical-align: top;\n",
       "    }\n",
       "\n",
       "    .dataframe thead th {\n",
       "        text-align: right;\n",
       "    }\n",
       "</style>\n",
       "<table border=\"1\" class=\"dataframe\">\n",
       "  <thead>\n",
       "    <tr style=\"text-align: right;\">\n",
       "      <th></th>\n",
       "      <th>U</th>\n",
       "      <th>V</th>\n",
       "      <th>W</th>\n",
       "      <th>X</th>\n",
       "      <th>Y</th>\n",
       "      <th>kas</th>\n",
       "    </tr>\n",
       "  </thead>\n",
       "  <tbody>\n",
       "    <tr>\n",
       "      <th>A</th>\n",
       "      <td>0.937082</td>\n",
       "      <td>0.731000</td>\n",
       "      <td>1.361556</td>\n",
       "      <td>-0.326238</td>\n",
       "      <td>0.055676</td>\n",
       "      <td>1.668083</td>\n",
       "    </tr>\n",
       "    <tr>\n",
       "      <th>B</th>\n",
       "      <td>0.222400</td>\n",
       "      <td>-1.443217</td>\n",
       "      <td>-0.756352</td>\n",
       "      <td>0.816454</td>\n",
       "      <td>0.750445</td>\n",
       "      <td>-1.220817</td>\n",
       "    </tr>\n",
       "    <tr>\n",
       "      <th>C</th>\n",
       "      <td>-0.455947</td>\n",
       "      <td>1.189622</td>\n",
       "      <td>-1.690617</td>\n",
       "      <td>-1.356399</td>\n",
       "      <td>-1.232435</td>\n",
       "      <td>0.733675</td>\n",
       "    </tr>\n",
       "    <tr>\n",
       "      <th>D</th>\n",
       "      <td>-0.544439</td>\n",
       "      <td>-0.668172</td>\n",
       "      <td>0.007315</td>\n",
       "      <td>-0.612939</td>\n",
       "      <td>1.299748</td>\n",
       "      <td>-1.212611</td>\n",
       "    </tr>\n",
       "    <tr>\n",
       "      <th>E</th>\n",
       "      <td>-1.733096</td>\n",
       "      <td>-0.983310</td>\n",
       "      <td>0.357508</td>\n",
       "      <td>-1.613579</td>\n",
       "      <td>1.470714</td>\n",
       "      <td>-2.716406</td>\n",
       "    </tr>\n",
       "  </tbody>\n",
       "</table>\n",
       "</div>"
      ],
      "text/plain": [
       "          U         V         W         X         Y       kas\n",
       "A  0.937082  0.731000  1.361556 -0.326238  0.055676  1.668083\n",
       "B  0.222400 -1.443217 -0.756352  0.816454  0.750445 -1.220817\n",
       "C -0.455947  1.189622 -1.690617 -1.356399 -1.232435  0.733675\n",
       "D -0.544439 -0.668172  0.007315 -0.612939  1.299748 -1.212611\n",
       "E -1.733096 -0.983310  0.357508 -1.613579  1.470714 -2.716406"
      ]
     },
     "execution_count": 168,
     "metadata": {},
     "output_type": "execute_result"
    }
   ],
   "source": [
    "v"
   ]
  },
  {
   "cell_type": "code",
   "execution_count": 169,
   "id": "415910c6",
   "metadata": {},
   "outputs": [],
   "source": [
    "c=v[\"Y\"]"
   ]
  },
  {
   "cell_type": "code",
   "execution_count": 170,
   "id": "46cb1a10",
   "metadata": {},
   "outputs": [
    {
     "data": {
      "text/plain": [
       "A    0.055676\n",
       "B    0.750445\n",
       "C   -1.232435\n",
       "D    1.299748\n",
       "E    1.470714\n",
       "Name: Y, dtype: float64"
      ]
     },
     "execution_count": 170,
     "metadata": {},
     "output_type": "execute_result"
    }
   ],
   "source": [
    "c"
   ]
  },
  {
   "cell_type": "code",
   "execution_count": 187,
   "id": "970bca39",
   "metadata": {},
   "outputs": [],
   "source": [
    "import pandas as pd\n",
    "import numpy as np"
   ]
  },
  {
   "cell_type": "code",
   "execution_count": 188,
   "id": "d8dbb758",
   "metadata": {},
   "outputs": [],
   "source": [
    "#d=np.random.randint(1,100,size=(5,5))"
   ]
  },
  {
   "cell_type": "code",
   "execution_count": 199,
   "id": "8434f5b7",
   "metadata": {},
   "outputs": [
    {
     "ename": "TypeError",
     "evalue": "int() argument must be a string, a bytes-like object or a real number, not 'tuple'",
     "output_type": "error",
     "traceback": [
      "\u001b[1;31m---------------------------------------------------------------------------\u001b[0m",
      "\u001b[1;31mTypeError\u001b[0m                                 Traceback (most recent call last)",
      "File \u001b[1;32m~\\AppData\\Local\\Programs\\Python\\Python310\\lib\\random.py:303\u001b[0m, in \u001b[0;36mRandom.randrange\u001b[1;34m(self, start, stop, step)\u001b[0m\n\u001b[0;32m    302\u001b[0m \u001b[38;5;28;01mtry\u001b[39;00m:\n\u001b[1;32m--> 303\u001b[0m     istart \u001b[38;5;241m=\u001b[39m \u001b[43m_index\u001b[49m\u001b[43m(\u001b[49m\u001b[43mstart\u001b[49m\u001b[43m)\u001b[49m\n\u001b[0;32m    304\u001b[0m \u001b[38;5;28;01mexcept\u001b[39;00m \u001b[38;5;167;01mTypeError\u001b[39;00m:\n",
      "\u001b[1;31mTypeError\u001b[0m: 'tuple' object cannot be interpreted as an integer",
      "\nDuring handling of the above exception, another exception occurred:\n",
      "\u001b[1;31mTypeError\u001b[0m                                 Traceback (most recent call last)",
      "Input \u001b[1;32mIn [199]\u001b[0m, in \u001b[0;36m<cell line: 2>\u001b[1;34m()\u001b[0m\n\u001b[0;32m      1\u001b[0m v\u001b[38;5;241m=\u001b[39mrandom\u001b[38;5;241m.\u001b[39mseed()\n\u001b[1;32m----> 2\u001b[0m m\u001b[38;5;241m=\u001b[39mpd\u001b[38;5;241m.\u001b[39mDataFrame(\u001b[43mrandom\u001b[49m\u001b[38;5;241;43m.\u001b[39;49m\u001b[43mrandint\u001b[49m\u001b[43m(\u001b[49m\u001b[43m(\u001b[49m\u001b[38;5;241;43m1\u001b[39;49m\u001b[43m,\u001b[49m\u001b[38;5;241;43m100\u001b[39;49m\u001b[43m)\u001b[49m\u001b[43m,\u001b[49m\u001b[38;5;241;43m20\u001b[39;49m\u001b[43m)\u001b[49m,[\u001b[38;5;124m'\u001b[39m\u001b[38;5;124mA\u001b[39m\u001b[38;5;124m'\u001b[39m,\u001b[38;5;124m'\u001b[39m\u001b[38;5;124mB\u001b[39m\u001b[38;5;124m'\u001b[39m,\u001b[38;5;124m'\u001b[39m\u001b[38;5;124mC\u001b[39m\u001b[38;5;124m'\u001b[39m,\u001b[38;5;124m'\u001b[39m\u001b[38;5;124mD\u001b[39m\u001b[38;5;124m'\u001b[39m,\u001b[38;5;124m'\u001b[39m\u001b[38;5;124mE\u001b[39m\u001b[38;5;124m'\u001b[39m],[\u001b[38;5;124m'\u001b[39m\u001b[38;5;124mU\u001b[39m\u001b[38;5;124m'\u001b[39m,\u001b[38;5;124m'\u001b[39m\u001b[38;5;124mV\u001b[39m\u001b[38;5;124m'\u001b[39m,\u001b[38;5;124m'\u001b[39m\u001b[38;5;124mW\u001b[39m\u001b[38;5;124m'\u001b[39m,\u001b[38;5;124m'\u001b[39m\u001b[38;5;124mX\u001b[39m\u001b[38;5;124m'\u001b[39m,\u001b[38;5;124m'\u001b[39m\u001b[38;5;124mY\u001b[39m\u001b[38;5;124m'\u001b[39m])\n",
      "File \u001b[1;32m~\\AppData\\Local\\Programs\\Python\\Python310\\lib\\random.py:370\u001b[0m, in \u001b[0;36mRandom.randint\u001b[1;34m(self, a, b)\u001b[0m\n\u001b[0;32m    366\u001b[0m \u001b[38;5;28;01mdef\u001b[39;00m \u001b[38;5;21mrandint\u001b[39m(\u001b[38;5;28mself\u001b[39m, a, b):\n\u001b[0;32m    367\u001b[0m     \u001b[38;5;124;03m\"\"\"Return random integer in range [a, b], including both end points.\u001b[39;00m\n\u001b[0;32m    368\u001b[0m \u001b[38;5;124;03m    \"\"\"\u001b[39;00m\n\u001b[1;32m--> 370\u001b[0m     \u001b[38;5;28;01mreturn\u001b[39;00m \u001b[38;5;28;43mself\u001b[39;49m\u001b[38;5;241;43m.\u001b[39;49m\u001b[43mrandrange\u001b[49m\u001b[43m(\u001b[49m\u001b[43ma\u001b[49m\u001b[43m,\u001b[49m\u001b[43m \u001b[49m\u001b[43mb\u001b[49m\u001b[38;5;241;43m+\u001b[39;49m\u001b[38;5;241;43m1\u001b[39;49m\u001b[43m)\u001b[49m\n",
      "File \u001b[1;32m~\\AppData\\Local\\Programs\\Python\\Python310\\lib\\random.py:305\u001b[0m, in \u001b[0;36mRandom.randrange\u001b[1;34m(self, start, stop, step)\u001b[0m\n\u001b[0;32m    303\u001b[0m     istart \u001b[38;5;241m=\u001b[39m _index(start)\n\u001b[0;32m    304\u001b[0m \u001b[38;5;28;01mexcept\u001b[39;00m \u001b[38;5;167;01mTypeError\u001b[39;00m:\n\u001b[1;32m--> 305\u001b[0m     istart \u001b[38;5;241m=\u001b[39m \u001b[38;5;28;43mint\u001b[39;49m\u001b[43m(\u001b[49m\u001b[43mstart\u001b[49m\u001b[43m)\u001b[49m\n\u001b[0;32m    306\u001b[0m     \u001b[38;5;28;01mif\u001b[39;00m istart \u001b[38;5;241m!=\u001b[39m start:\n\u001b[0;32m    307\u001b[0m         _warn(\u001b[38;5;124m'\u001b[39m\u001b[38;5;124mrandrange() will raise TypeError in the future\u001b[39m\u001b[38;5;124m'\u001b[39m,\n\u001b[0;32m    308\u001b[0m               \u001b[38;5;167;01mDeprecationWarning\u001b[39;00m, \u001b[38;5;241m2\u001b[39m)\n",
      "\u001b[1;31mTypeError\u001b[0m: int() argument must be a string, a bytes-like object or a real number, not 'tuple'"
     ]
    }
   ],
   "source": [
    "v=random.seed()\n",
    "from n\n",
    "m=pd.DataFrame(random.randint((1,100),20),['A','B','C','D','E'],['U','V','W','X','Y'])"
   ]
  },
  {
   "cell_type": "code",
   "execution_count": 197,
   "id": "7db1e1ed",
   "metadata": {},
   "outputs": [
    {
     "data": {
      "text/html": [
       "<div>\n",
       "<style scoped>\n",
       "    .dataframe tbody tr th:only-of-type {\n",
       "        vertical-align: middle;\n",
       "    }\n",
       "\n",
       "    .dataframe tbody tr th {\n",
       "        vertical-align: top;\n",
       "    }\n",
       "\n",
       "    .dataframe thead th {\n",
       "        text-align: right;\n",
       "    }\n",
       "</style>\n",
       "<table border=\"1\" class=\"dataframe\">\n",
       "  <thead>\n",
       "    <tr style=\"text-align: right;\">\n",
       "      <th></th>\n",
       "      <th>U</th>\n",
       "      <th>V</th>\n",
       "      <th>W</th>\n",
       "      <th>X</th>\n",
       "      <th>Y</th>\n",
       "    </tr>\n",
       "  </thead>\n",
       "  <tbody>\n",
       "    <tr>\n",
       "      <th>A</th>\n",
       "      <td>23</td>\n",
       "      <td>23</td>\n",
       "      <td>23</td>\n",
       "      <td>23</td>\n",
       "      <td>23</td>\n",
       "    </tr>\n",
       "    <tr>\n",
       "      <th>B</th>\n",
       "      <td>23</td>\n",
       "      <td>23</td>\n",
       "      <td>23</td>\n",
       "      <td>23</td>\n",
       "      <td>23</td>\n",
       "    </tr>\n",
       "    <tr>\n",
       "      <th>C</th>\n",
       "      <td>23</td>\n",
       "      <td>23</td>\n",
       "      <td>23</td>\n",
       "      <td>23</td>\n",
       "      <td>23</td>\n",
       "    </tr>\n",
       "    <tr>\n",
       "      <th>D</th>\n",
       "      <td>23</td>\n",
       "      <td>23</td>\n",
       "      <td>23</td>\n",
       "      <td>23</td>\n",
       "      <td>23</td>\n",
       "    </tr>\n",
       "    <tr>\n",
       "      <th>E</th>\n",
       "      <td>23</td>\n",
       "      <td>23</td>\n",
       "      <td>23</td>\n",
       "      <td>23</td>\n",
       "      <td>23</td>\n",
       "    </tr>\n",
       "  </tbody>\n",
       "</table>\n",
       "</div>"
      ],
      "text/plain": [
       "    U   V   W   X   Y\n",
       "A  23  23  23  23  23\n",
       "B  23  23  23  23  23\n",
       "C  23  23  23  23  23\n",
       "D  23  23  23  23  23\n",
       "E  23  23  23  23  23"
      ]
     },
     "execution_count": 197,
     "metadata": {},
     "output_type": "execute_result"
    }
   ],
   "source": [
    "m"
   ]
  },
  {
   "cell_type": "code",
   "execution_count": null,
   "id": "1bd6a79c",
   "metadata": {},
   "outputs": [],
   "source": [
    "print(m[\"X\"])"
   ]
  },
  {
   "cell_type": "code",
   "execution_count": null,
   "id": "f3dff520",
   "metadata": {},
   "outputs": [],
   "source": [
    "li=list(m[\"X\"])"
   ]
  },
  {
   "cell_type": "code",
   "execution_count": null,
   "id": "e5300335",
   "metadata": {},
   "outputs": [],
   "source": [
    "li"
   ]
  },
  {
   "cell_type": "code",
   "execution_count": null,
   "id": "5a2bafc7",
   "metadata": {},
   "outputs": [],
   "source": [
    "r=[]\n",
    "for p in li:\n",
    "    if p==0:\n",
    "        r.append(\"even\")\n",
    "    else:\n",
    "        r.append(\"odd\")\n",
    "    "
   ]
  },
  {
   "cell_type": "code",
   "execution_count": null,
   "id": "82a810b7",
   "metadata": {},
   "outputs": [],
   "source": [
    "r"
   ]
  },
  {
   "cell_type": "code",
   "execution_count": null,
   "id": "639dcc70",
   "metadata": {},
   "outputs": [],
   "source": [
    "m[\"x_position\"]=r"
   ]
  },
  {
   "cell_type": "code",
   "execution_count": null,
   "id": "9d96ee44",
   "metadata": {},
   "outputs": [],
   "source": [
    "m"
   ]
  },
  {
   "cell_type": "markdown",
   "id": "ada38481",
   "metadata": {},
   "source": [
    "sum = 0\n",
    "for index in m.index:\n",
    "    i = 0\n",
    "    fram  = m.loc[index]\n",
    "    print(fram)\n",
    "    sum += fram[i]\n",
    "    i+=1\n",
    "    print(i)\n",
    "    print(sum)"
   ]
  },
  {
   "cell_type": "code",
   "execution_count": null,
   "id": "f6f89cb8",
   "metadata": {},
   "outputs": [],
   "source": [
    "m.loc['A']"
   ]
  },
  {
   "cell_type": "code",
   "execution_count": null,
   "id": "57fc7a93",
   "metadata": {},
   "outputs": [],
   "source": [
    "m.iloc[0, :-1]"
   ]
  },
  {
   "cell_type": "code",
   "execution_count": null,
   "id": "2c0900ad",
   "metadata": {},
   "outputs": [],
   "source": [
    "sum(m.iloc[0,:-1].tolist())"
   ]
  },
  {
   "cell_type": "code",
   "execution_count": null,
   "id": "24cba678",
   "metadata": {},
   "outputs": [],
   "source": [
    "m.drop('x_position', axis=1,inplace=True)"
   ]
  },
  {
   "cell_type": "code",
   "execution_count": null,
   "id": "e2aa1c55",
   "metadata": {},
   "outputs": [],
   "source": [
    "m"
   ]
  },
  {
   "cell_type": "code",
   "execution_count": null,
   "id": "5f1f46d1",
   "metadata": {},
   "outputs": [],
   "source": [
    "li = [4,78,6,87]\n",
    "\n",
    "newLi = []\n",
    "\n",
    "for i in li:\n",
    "    newLi.append(i*2)\n",
    "\n",
    "newLi\n"
   ]
  },
  {
   "cell_type": "code",
   "execution_count": null,
   "id": "ab2bbfa6",
   "metadata": {},
   "outputs": [],
   "source": [
    "NEWli = [i*2 for i in li]\n",
    "NEWli"
   ]
  },
  {
   "cell_type": "code",
   "execution_count": null,
   "id": "c39f7735",
   "metadata": {},
   "outputs": [],
   "source": [
    "m['Total(500)'] = [index for index in range(len(m.index))]\n",
    "m['% marks'] = [index for index in range(len(m.index))]\n",
    "m['Grade'] = [index for index in range(len(m.index))]"
   ]
  },
  {
   "cell_type": "code",
   "execution_count": null,
   "id": "7583b131",
   "metadata": {},
   "outputs": [],
   "source": [
    "m"
   ]
  },
  {
   "cell_type": "code",
   "execution_count": null,
   "id": "e40236af",
   "metadata": {},
   "outputs": [],
   "source": [
    "#m['Total(500)'] = [index for i in range(len(m.index))]\n",
    "\n",
    "for index in range(len(m.index)):\n",
    "    val  = sum(m.iloc[index, :-3].tolist())\n",
    "    print(val)# total\n",
    "    m[\"Total(500)\"][index]=val\n",
    "    per=(m[\"Total(500)\"][index])/500*100 #percentage\n",
    "    m[\"% marks\"][index] = per\n",
    "    if per>=90:\n",
    "       m[\"Grade\"][index] = \"A\"\n",
    "    elif (per>=80 and per<90):\n",
    "        m[\"Grade\"][index] = \"B\"\n",
    "    elif (per>=40 and per<90):\n",
    "        m[\"Grade\"][index] = \"C\"\n",
    "    else:\n",
    "        m[\"Grade\"][index] = \"D\"\n",
    "    \n"
   ]
  },
  {
   "cell_type": "code",
   "execution_count": null,
   "id": "8f893bf8",
   "metadata": {},
   "outputs": [],
   "source": [
    "m"
   ]
  },
  {
   "cell_type": "code",
   "execution_count": null,
   "id": "90b7bd9d",
   "metadata": {},
   "outputs": [],
   "source": [
    "    #add.append(val)\n",
    "#li3=[]\n",
    "for i in range(len(m[\"Total(500)\"])):\n",
    "    print(m[\"Total(500)\"][i])\n",
    "    r=(m[\"Total(500)\"][i])\n",
    "    per=r/500*100\n",
    "    li3.append(round(per,2))\n",
    "    \n",
    "#li3=[]\n",
    "#gr=[]\n",
    "for i in range(len(m[\"Total(500)\"])):\n",
    "    #print(m[\"Total(500)\"][i])\n",
    "    r=(m[\"Total(500)\"][i])\n",
    "    per=r/500*100\n",
    "    li3.append(round(per,2))\n",
    "for per in li3:\n",
    "    #print(per)\n",
    "    if per>=90:\n",
    "        gr.append(\"A\")\n",
    "    elif (per>=80 and per<90):\n",
    "        gr.append(\"B\")\n",
    "    elif (per>=40 and per<90):\n",
    "        gr.append(\"C\")\n",
    "    else:\n",
    "        gr.append(\"D\")\n",
    "\n",
    "  \n",
    "    \n",
    " \n",
    "    "
   ]
  },
  {
   "cell_type": "code",
   "execution_count": null,
   "id": "875109a1",
   "metadata": {},
   "outputs": [],
   "source": [
    "li3=[]\n",
    "for i in range(len(m[\"Total(500)\"])):\n",
    "    print(m[\"Total(500)\"][i])\n",
    "    r=(m[\"Total(500)\"][i])\n",
    "    per=r/500*100\n",
    "    li3.append(round(per,2))\n",
    "    \n",
    "#print(li3)  "
   ]
  },
  {
   "cell_type": "code",
   "execution_count": null,
   "id": "4629489a",
   "metadata": {},
   "outputs": [],
   "source": [
    "m[\"PERCENTAGE\"]=li3"
   ]
  },
  {
   "cell_type": "code",
   "execution_count": null,
   "id": "1723ce54",
   "metadata": {},
   "outputs": [],
   "source": [
    "m"
   ]
  },
  {
   "cell_type": "code",
   "execution_count": null,
   "id": "7f996bd5",
   "metadata": {},
   "outputs": [],
   "source": []
  },
  {
   "cell_type": "code",
   "execution_count": null,
   "id": "33dd1e60",
   "metadata": {},
   "outputs": [],
   "source": []
  },
  {
   "cell_type": "code",
   "execution_count": null,
   "id": "6235fa7e",
   "metadata": {},
   "outputs": [],
   "source": [
    "li3=[]\n",
    "gr=[]\n",
    "for i in range(len(m[\"Total(500)\"])):\n",
    "    #print(m[\"Total(500)\"][i])\n",
    "    r=(m[\"Total(500)\"][i])\n",
    "    per=r/500*100\n",
    "    li3.append(round(per,2))\n",
    "for per in li3:\n",
    "    #print(per)\n",
    "    if per>=90:\n",
    "        gr.append(\"A\")\n",
    "    elif (per>=80 and per<90):\n",
    "        gr.append(\"B\")\n",
    "    elif (per>=40 and per<90):\n",
    "        gr.append(\"C\")\n",
    "    else:\n",
    "        gr.append(\"D\")"
   ]
  },
  {
   "cell_type": "code",
   "execution_count": null,
   "id": "e3cb3639",
   "metadata": {},
   "outputs": [],
   "source": [
    "m[\"PERCENTAGE\"]=li3\n",
    "m[\"GRADE\"]=gr"
   ]
  },
  {
   "cell_type": "code",
   "execution_count": null,
   "id": "a05a47e5",
   "metadata": {},
   "outputs": [],
   "source": [
    "m"
   ]
  },
  {
   "cell_type": "code",
   "execution_count": null,
   "id": "74f93c9d",
   "metadata": {},
   "outputs": [],
   "source": []
  }
 ],
 "metadata": {
  "kernelspec": {
   "display_name": "Python 3 (ipykernel)",
   "language": "python",
   "name": "python3"
  },
  "language_info": {
   "codemirror_mode": {
    "name": "ipython",
    "version": 3
   },
   "file_extension": ".py",
   "mimetype": "text/x-python",
   "name": "python",
   "nbconvert_exporter": "python",
   "pygments_lexer": "ipython3",
   "version": "3.10.2"
  }
 },
 "nbformat": 4,
 "nbformat_minor": 5
}
